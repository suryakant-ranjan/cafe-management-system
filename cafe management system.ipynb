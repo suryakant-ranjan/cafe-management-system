{
 "cells": [
  {
   "cell_type": "code",
   "execution_count": 2,
   "id": "9761ddf8-ed57-4aae-ba58-7be8f226a8a2",
   "metadata": {},
   "outputs": [
    {
     "name": "stdout",
     "output_type": "stream",
     "text": [
      "WELCOME TO PYTHON RESTURANT\n",
      "burger :45 \n",
      "french fries :55 \n",
      "mini pizza :90 \n",
      "regular pizza :240 \n",
      "large pizza :480 \n",
      "biryani half :110 \n",
      "biryani full :200\n"
     ]
    }
   ],
   "source": [
    "menu = {\"burger\":45,\n",
    "        \"french fries\":55,\n",
    "        \"mini pizza\":90,\n",
    "        \"regular pizza\":240,\n",
    "        \"large pizza\":480,\n",
    "        \"biryani half\":110,\n",
    "        \"biryani full\":200\n",
    "       }\n",
    "print(\"WELCOME TO PYTHON RESTURANT\")\n",
    "print(\"burger :45 \\nfrench fries :55 \\nmini pizza :90 \\nregular pizza :240 \\nlarge pizza :480 \\nbiryani half :110 \\nbiryani full :200\")"
   ]
  },
  {
   "cell_type": "code",
   "execution_count": 29,
   "id": "782d3c87-2c9c-460c-a59f-9f000a84a40c",
   "metadata": {},
   "outputs": [
    {
     "name": "stdout",
     "output_type": "stream",
     "text": [
      "Enter your item here : burger\n"
     ]
    },
    {
     "name": "stdout",
     "output_type": "stream",
     "text": [
      "your item burger has been added in cart\n"
     ]
    },
    {
     "name": "stdout",
     "output_type": "stream",
     "text": [
      "do you want to order another item yes/no : no\n"
     ]
    },
    {
     "name": "stdout",
     "output_type": "stream",
     "text": [
      "thanks sir we are preparing burger\n",
      "your total amount is: 45 rupees\n"
     ]
    }
   ],
   "source": [
    "total_amount = 0\n",
    "item_1 = input(\"Enter your item here :\")\n",
    "if item_1 in menu:\n",
    "    total_amount+=menu[item_1]\n",
    "    print(f\"your item {item_1} has been added in cart\")\n",
    "else:\n",
    "    print(f\"sorry sir{item_1}is not avaliable\")\n",
    "\n",
    "item = input(\"do you want to order another item yes/no :\")\n",
    "if item == \"yes\":\n",
    "    item_2 = input(\"Enter your item here :\")\n",
    "    if item_2 in menu:\n",
    "        total_amount+=menu[item_2]\n",
    "        print(\"your second item has been added to your cart\")\n",
    "    else:\n",
    "        print(f\"sorry sir {item_2} is not avaliable\")\n",
    "else:\n",
    "    print(f\"thanks sir we are preparing your {item_1}\")\n",
    "\n",
    "print(f\"your total amount is: {total_amount} rupees\")"
   ]
  },
  {
   "cell_type": "code",
   "execution_count": null,
   "id": "c297c251-da81-44a9-adea-63a3c1dec4e5",
   "metadata": {},
   "outputs": [],
   "source": []
  }
 ],
 "metadata": {
  "kernelspec": {
   "display_name": "Python 3",
   "language": "python",
   "name": "python3"
  },
  "language_info": {
   "codemirror_mode": {
    "name": "ipython",
    "version": 3
   },
   "file_extension": ".py",
   "mimetype": "text/x-python",
   "name": "python",
   "nbconvert_exporter": "python",
   "pygments_lexer": "ipython3",
   "version": "3.12.4"
  }
 },
 "nbformat": 4,
 "nbformat_minor": 5
}
